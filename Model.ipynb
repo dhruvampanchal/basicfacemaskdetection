{
  "nbformat": 4,
  "nbformat_minor": 0,
  "metadata": {
    "colab": {
      "name": "AI_MAJOR_MAY.ipynb",
      "provenance": [],
      "collapsed_sections": [],
      "authorship_tag": "ABX9TyP5NK8PTkZ61ysPu14vE3nH",
      "include_colab_link": true
    },
    "kernelspec": {
      "name": "python3",
      "display_name": "Python 3"
    },
    "accelerator": "TPU"
  },
  "cells": [
    {
      "cell_type": "markdown",
      "metadata": {
        "id": "view-in-github",
        "colab_type": "text"
      },
      "source": [
        "<a href=\"https://colab.research.google.com/github/dhruvampanchal/basicfacemaskdetection/blob/master/Model.ipynb\" target=\"_parent\"><img src=\"https://colab.research.google.com/assets/colab-badge.svg\" alt=\"Open In Colab\"/></a>"
      ]
    },
    {
      "cell_type": "markdown",
      "metadata": {
        "id": "EjiUNXLnGnsk",
        "colab_type": "text"
      },
      "source": [
        "# MASK DETECTION PROJECT"
      ]
    },
    {
      "cell_type": "markdown",
      "metadata": {
        "id": "NDqZTH0k_kvD",
        "colab_type": "text"
      },
      "source": [
        "#Handling the Data."
      ]
    },
    {
      "cell_type": "code",
      "metadata": {
        "id": "-GEMcvhUzRgm",
        "colab_type": "code",
        "colab": {
          "base_uri": "https://localhost:8080/",
          "height": 34
        },
        "outputId": "3f97945b-6dea-430c-a35f-86ed163658de"
      },
      "source": [
        "from google.colab import drive\n",
        "drive.mount('/content/drive')"
      ],
      "execution_count": null,
      "outputs": [
        {
          "output_type": "stream",
          "text": [
            "Drive already mounted at /content/drive; to attempt to forcibly remount, call drive.mount(\"/content/drive\", force_remount=True).\n"
          ],
          "name": "stdout"
        }
      ]
    },
    {
      "cell_type": "code",
      "metadata": {
        "id": "lCkXEq84Gh_L",
        "colab_type": "code",
        "colab": {}
      },
      "source": [
        "import cv2, os\n",
        "\n",
        "data_path = '/content/drive/My Drive/dataset'\n",
        "categories = os.listdir(data_path)\n",
        "labels = [i for i in range(0, len(categories))]\n",
        "labels_dict = dict(zip(categories, labels))"
      ],
      "execution_count": null,
      "outputs": []
    },
    {
      "cell_type": "code",
      "metadata": {
        "id": "0H5vDkL5zuC_",
        "colab_type": "code",
        "colab": {}
      },
      "source": [
        "image_size = 100\n",
        "data = []\n",
        "label = []\n",
        "#All the images of the data array will have a label in label array corresponding to the image's index in data array.\n",
        "\n",
        "for category in categories:\n",
        "    path = os.path.join(data_path, category)\n",
        "    image_names = os.listdir(path)\n",
        "    \n",
        "    for image_name in image_names:\n",
        "        image_path = os.path.join(path, image_name)\n",
        "        image = cv2.imread(image_path)\n",
        "        \n",
        "        #Converting the image to gray scale.\n",
        "        gray_image=cv2.cvtColor(image, cv2.COLOR_BGR2GRAY)\n",
        "        #Resizing the image\n",
        "        resized_gray_image = cv2.resize(gray_image, (image_size, image_size))\n",
        "        #Adding the gray scale resized image to the data array.\n",
        "        data.append(resized_gray_image)\n",
        "        #Adding the corresponding label for the image to the corresponding index in label array\n",
        "        label.append(labels_dict[category])"
      ],
      "execution_count": null,
      "outputs": []
    },
    {
      "cell_type": "code",
      "metadata": {
        "id": "xorAWy4f3bbO",
        "colab_type": "code",
        "colab": {}
      },
      "source": [
        "import numpy as np\n",
        "\n",
        "#Converting the data in range of 0 to 1 for training the model.\n",
        "scaled_data = np.array(data)/255.0\n",
        "#Reshaping the data for training the model.\n",
        "reshaped_scaled_data = np.reshape(scaled_data, (scaled_data.shape[0], image_size, image_size, 1))\n",
        "#Converting target array to numpy array\n",
        "label = np.array(label)\n",
        "\n",
        "from keras.utils import np_utils\n",
        "label = np_utils.to_categorical(label)"
      ],
      "execution_count": null,
      "outputs": []
    },
    {
      "cell_type": "markdown",
      "metadata": {
        "id": "M6FvTWhH_p7C",
        "colab_type": "text"
      },
      "source": [
        "#Making and training the model."
      ]
    },
    {
      "cell_type": "code",
      "metadata": {
        "id": "Tk81KXLw3fmL",
        "colab_type": "code",
        "colab": {}
      },
      "source": [
        "from keras.models import Sequential\n",
        "from keras.layers import Dense, Flatten, Dropout, Conv2D, MaxPooling2D\n",
        "\n",
        "model = Sequential()\n",
        "model.add(Conv2D(100, (3, 3), activation = 'relu',input_shape = reshaped_scaled_data.shape[1:]))\n",
        "model.add(MaxPooling2D(pool_size=(2, 2)))\n",
        "\n",
        "model.add(Conv2D(200, (3,3), activation = 'relu'))\n",
        "model.add(MaxPooling2D(pool_size=(2, 2)))\n",
        "\n",
        "model.add(Flatten())\n",
        "model.add(Dropout(0.2))\n",
        "model.add(Dense(100, activation='relu'))\n",
        "model.add(Dense(50, activation='relu'))\n",
        "model.add(Dense(2, activation='softmax'))\n",
        "\n",
        "model.compile(optimizer= 'adam', loss='binary_crossentropy', metrics=['accuracy'])"
      ],
      "execution_count": null,
      "outputs": []
    },
    {
      "cell_type": "markdown",
      "metadata": {
        "id": "uLROyPvm_xyY",
        "colab_type": "text"
      },
      "source": [
        "Splitting the data."
      ]
    },
    {
      "cell_type": "code",
      "metadata": {
        "id": "q7k9zXS_PI7Q",
        "colab_type": "code",
        "colab": {
          "base_uri": "https://localhost:8080/",
          "height": 1000
        },
        "outputId": "36fb5f2f-a067-422e-866a-05694d74fdde"
      },
      "source": [
        "print (reshaped_scaled_data)"
      ],
      "execution_count": null,
      "outputs": [
        {
          "output_type": "stream",
          "text": [
            "[[[[0.99607843]\n",
            "   [0.99607843]\n",
            "   [0.99215686]\n",
            "   ...\n",
            "   [0.63137255]\n",
            "   [0.6       ]\n",
            "   [0.61176471]]\n",
            "\n",
            "  [[0.99607843]\n",
            "   [0.99607843]\n",
            "   [0.99607843]\n",
            "   ...\n",
            "   [0.62745098]\n",
            "   [0.61960784]\n",
            "   [0.6745098 ]]\n",
            "\n",
            "  [[1.        ]\n",
            "   [1.        ]\n",
            "   [0.99215686]\n",
            "   ...\n",
            "   [0.56078431]\n",
            "   [0.56470588]\n",
            "   [0.64313725]]\n",
            "\n",
            "  ...\n",
            "\n",
            "  [[1.        ]\n",
            "   [1.        ]\n",
            "   [0.99215686]\n",
            "   ...\n",
            "   [0.82745098]\n",
            "   [0.74901961]\n",
            "   [0.68627451]]\n",
            "\n",
            "  [[1.        ]\n",
            "   [1.        ]\n",
            "   [0.99215686]\n",
            "   ...\n",
            "   [0.56862745]\n",
            "   [0.6       ]\n",
            "   [0.60392157]]\n",
            "\n",
            "  [[1.        ]\n",
            "   [0.99607843]\n",
            "   [0.99215686]\n",
            "   ...\n",
            "   [0.21176471]\n",
            "   [0.49411765]\n",
            "   [0.98039216]]]\n",
            "\n",
            "\n",
            " [[[1.        ]\n",
            "   [1.        ]\n",
            "   [0.99607843]\n",
            "   ...\n",
            "   [0.40392157]\n",
            "   [0.34901961]\n",
            "   [0.32941176]]\n",
            "\n",
            "  [[1.        ]\n",
            "   [1.        ]\n",
            "   [1.        ]\n",
            "   ...\n",
            "   [0.31764706]\n",
            "   [0.34901961]\n",
            "   [0.31372549]]\n",
            "\n",
            "  [[1.        ]\n",
            "   [1.        ]\n",
            "   [1.        ]\n",
            "   ...\n",
            "   [0.33333333]\n",
            "   [0.32941176]\n",
            "   [0.29411765]]\n",
            "\n",
            "  ...\n",
            "\n",
            "  [[1.        ]\n",
            "   [0.99607843]\n",
            "   [0.99607843]\n",
            "   ...\n",
            "   [0.3254902 ]\n",
            "   [0.27843137]\n",
            "   [0.25098039]]\n",
            "\n",
            "  [[1.        ]\n",
            "   [1.        ]\n",
            "   [1.        ]\n",
            "   ...\n",
            "   [0.3254902 ]\n",
            "   [0.41960784]\n",
            "   [0.41176471]]\n",
            "\n",
            "  [[1.        ]\n",
            "   [0.99607843]\n",
            "   [0.99607843]\n",
            "   ...\n",
            "   [0.55294118]\n",
            "   [0.54117647]\n",
            "   [0.61176471]]]\n",
            "\n",
            "\n",
            " [[[1.        ]\n",
            "   [0.99607843]\n",
            "   [1.        ]\n",
            "   ...\n",
            "   [0.6745098 ]\n",
            "   [0.41568627]\n",
            "   [0.45882353]]\n",
            "\n",
            "  [[1.        ]\n",
            "   [0.99607843]\n",
            "   [1.        ]\n",
            "   ...\n",
            "   [0.70980392]\n",
            "   [0.74901961]\n",
            "   [0.61176471]]\n",
            "\n",
            "  [[1.        ]\n",
            "   [0.99607843]\n",
            "   [1.        ]\n",
            "   ...\n",
            "   [0.7254902 ]\n",
            "   [0.78431373]\n",
            "   [0.66666667]]\n",
            "\n",
            "  ...\n",
            "\n",
            "  [[1.        ]\n",
            "   [1.        ]\n",
            "   [1.        ]\n",
            "   ...\n",
            "   [0.4745098 ]\n",
            "   [0.55294118]\n",
            "   [0.35686275]]\n",
            "\n",
            "  [[1.        ]\n",
            "   [1.        ]\n",
            "   [1.        ]\n",
            "   ...\n",
            "   [0.29411765]\n",
            "   [0.20784314]\n",
            "   [0.02745098]]\n",
            "\n",
            "  [[1.        ]\n",
            "   [1.        ]\n",
            "   [1.        ]\n",
            "   ...\n",
            "   [0.59607843]\n",
            "   [0.57254902]\n",
            "   [0.63529412]]]\n",
            "\n",
            "\n",
            " ...\n",
            "\n",
            "\n",
            " [[[1.        ]\n",
            "   [1.        ]\n",
            "   [1.        ]\n",
            "   ...\n",
            "   [1.        ]\n",
            "   [1.        ]\n",
            "   [1.        ]]\n",
            "\n",
            "  [[1.        ]\n",
            "   [1.        ]\n",
            "   [1.        ]\n",
            "   ...\n",
            "   [1.        ]\n",
            "   [1.        ]\n",
            "   [1.        ]]\n",
            "\n",
            "  [[1.        ]\n",
            "   [1.        ]\n",
            "   [1.        ]\n",
            "   ...\n",
            "   [1.        ]\n",
            "   [1.        ]\n",
            "   [1.        ]]\n",
            "\n",
            "  ...\n",
            "\n",
            "  [[0.03529412]\n",
            "   [0.05490196]\n",
            "   [0.09411765]\n",
            "   ...\n",
            "   [0.15294118]\n",
            "   [0.10196078]\n",
            "   [0.32941176]]\n",
            "\n",
            "  [[0.68627451]\n",
            "   [0.68235294]\n",
            "   [0.68235294]\n",
            "   ...\n",
            "   [0.69803922]\n",
            "   [0.70196078]\n",
            "   [0.76470588]]\n",
            "\n",
            "  [[1.        ]\n",
            "   [1.        ]\n",
            "   [0.99607843]\n",
            "   ...\n",
            "   [0.98823529]\n",
            "   [0.99215686]\n",
            "   [0.99215686]]]\n",
            "\n",
            "\n",
            " [[[0.80784314]\n",
            "   [0.80784314]\n",
            "   [0.80784314]\n",
            "   ...\n",
            "   [0.90196078]\n",
            "   [0.9254902 ]\n",
            "   [0.95686275]]\n",
            "\n",
            "  [[0.81176471]\n",
            "   [0.81176471]\n",
            "   [0.81176471]\n",
            "   ...\n",
            "   [0.88235294]\n",
            "   [0.91372549]\n",
            "   [0.94509804]]\n",
            "\n",
            "  [[0.81568627]\n",
            "   [0.81568627]\n",
            "   [0.81568627]\n",
            "   ...\n",
            "   [0.8627451 ]\n",
            "   [0.89803922]\n",
            "   [0.9254902 ]]\n",
            "\n",
            "  ...\n",
            "\n",
            "  [[0.49411765]\n",
            "   [0.46666667]\n",
            "   [0.46666667]\n",
            "   ...\n",
            "   [0.17254902]\n",
            "   [0.18039216]\n",
            "   [0.18039216]]\n",
            "\n",
            "  [[0.49019608]\n",
            "   [0.47843137]\n",
            "   [0.46666667]\n",
            "   ...\n",
            "   [0.17647059]\n",
            "   [0.17647059]\n",
            "   [0.18039216]]\n",
            "\n",
            "  [[0.49019608]\n",
            "   [0.47843137]\n",
            "   [0.46666667]\n",
            "   ...\n",
            "   [0.17647059]\n",
            "   [0.17647059]\n",
            "   [0.18039216]]]\n",
            "\n",
            "\n",
            " [[[0.        ]\n",
            "   [0.        ]\n",
            "   [0.        ]\n",
            "   ...\n",
            "   [0.        ]\n",
            "   [0.        ]\n",
            "   [0.        ]]\n",
            "\n",
            "  [[0.        ]\n",
            "   [0.        ]\n",
            "   [0.        ]\n",
            "   ...\n",
            "   [0.        ]\n",
            "   [0.        ]\n",
            "   [0.        ]]\n",
            "\n",
            "  [[0.        ]\n",
            "   [0.        ]\n",
            "   [0.        ]\n",
            "   ...\n",
            "   [0.        ]\n",
            "   [0.        ]\n",
            "   [0.        ]]\n",
            "\n",
            "  ...\n",
            "\n",
            "  [[0.63529412]\n",
            "   [0.64705882]\n",
            "   [0.63921569]\n",
            "   ...\n",
            "   [0.79215686]\n",
            "   [0.78823529]\n",
            "   [0.78039216]]\n",
            "\n",
            "  [[0.63529412]\n",
            "   [0.64705882]\n",
            "   [0.63921569]\n",
            "   ...\n",
            "   [0.78823529]\n",
            "   [0.78431373]\n",
            "   [0.78039216]]\n",
            "\n",
            "  [[0.63137255]\n",
            "   [0.64313725]\n",
            "   [0.65098039]\n",
            "   ...\n",
            "   [0.79215686]\n",
            "   [0.78823529]\n",
            "   [0.78431373]]]]\n"
          ],
          "name": "stdout"
        }
      ]
    },
    {
      "cell_type": "code",
      "metadata": {
        "id": "oEGk591Q_wsu",
        "colab_type": "code",
        "colab": {}
      },
      "source": [
        "from sklearn.model_selection import train_test_split\n",
        "train_data, test_data, train_label, test_label = train_test_split(reshaped_scaled_data, label, test_size=0.1)"
      ],
      "execution_count": null,
      "outputs": []
    },
    {
      "cell_type": "markdown",
      "metadata": {
        "id": "bnuUhyYUAU6w",
        "colab_type": "text"
      },
      "source": [
        "Fitting the data in the model."
      ]
    },
    {
      "cell_type": "code",
      "metadata": {
        "id": "fXXkpK0mAUfA",
        "colab_type": "code",
        "colab": {
          "base_uri": "https://localhost:8080/",
          "height": 714
        },
        "outputId": "abc71a67-d24f-4cf1-a9d3-b2e19ebf656c"
      },
      "source": [
        "from keras.callbacks import ModelCheckpoint\n",
        "checkpoint = ModelCheckpoint('/content/drive/My Drive/dataset/ModelCheckpoints/model-{epoch:02d}.model')\n",
        "trained_model = model.fit(train_data, train_label, epochs = 20, callbacks=[checkpoint], validation_data=(test_data, test_label))"
      ],
      "execution_count": null,
      "outputs": [
        {
          "output_type": "stream",
          "text": [
            "Train on 1238 samples, validate on 138 samples\n",
            "Epoch 1/20\n",
            "1238/1238 [==============================] - 69s 56ms/step - loss: 0.6671 - accuracy: 0.6074 - val_loss: 0.5227 - val_accuracy: 0.7246\n",
            "Epoch 2/20\n",
            "1238/1238 [==============================] - 71s 57ms/step - loss: 0.3357 - accuracy: 0.8554 - val_loss: 0.3259 - val_accuracy: 0.8696\n",
            "Epoch 3/20\n",
            "1238/1238 [==============================] - 68s 55ms/step - loss: 0.2228 - accuracy: 0.9120 - val_loss: 0.3232 - val_accuracy: 0.8696\n",
            "Epoch 4/20\n",
            "1238/1238 [==============================] - 68s 55ms/step - loss: 0.1249 - accuracy: 0.9507 - val_loss: 0.2947 - val_accuracy: 0.8986\n",
            "Epoch 5/20\n",
            "1238/1238 [==============================] - 68s 55ms/step - loss: 0.0676 - accuracy: 0.9774 - val_loss: 0.2300 - val_accuracy: 0.9420\n",
            "Epoch 6/20\n",
            "1238/1238 [==============================] - 68s 55ms/step - loss: 0.0346 - accuracy: 0.9911 - val_loss: 0.6113 - val_accuracy: 0.8478\n",
            "Epoch 7/20\n",
            "1238/1238 [==============================] - 68s 55ms/step - loss: 0.0816 - accuracy: 0.9661 - val_loss: 0.3117 - val_accuracy: 0.9130\n",
            "Epoch 8/20\n",
            "1238/1238 [==============================] - 68s 55ms/step - loss: 0.0464 - accuracy: 0.9863 - val_loss: 0.4087 - val_accuracy: 0.9130\n",
            "Epoch 9/20\n",
            "1238/1238 [==============================] - 68s 55ms/step - loss: 0.0239 - accuracy: 0.9911 - val_loss: 0.4032 - val_accuracy: 0.9203\n",
            "Epoch 10/20\n",
            "1238/1238 [==============================] - 70s 56ms/step - loss: 0.0165 - accuracy: 0.9935 - val_loss: 0.3589 - val_accuracy: 0.9203\n",
            "Epoch 11/20\n",
            "1238/1238 [==============================] - 68s 55ms/step - loss: 0.0187 - accuracy: 0.9943 - val_loss: 0.3642 - val_accuracy: 0.9420\n",
            "Epoch 12/20\n",
            "1238/1238 [==============================] - 68s 55ms/step - loss: 0.0064 - accuracy: 0.9992 - val_loss: 0.3435 - val_accuracy: 0.9493\n",
            "Epoch 13/20\n",
            "1238/1238 [==============================] - 68s 55ms/step - loss: 0.0124 - accuracy: 0.9952 - val_loss: 0.6340 - val_accuracy: 0.8841\n",
            "Epoch 14/20\n",
            "1238/1238 [==============================] - 68s 55ms/step - loss: 0.0357 - accuracy: 0.9863 - val_loss: 0.3246 - val_accuracy: 0.9493\n",
            "Epoch 15/20\n",
            "1238/1238 [==============================] - 67s 54ms/step - loss: 0.0117 - accuracy: 0.9960 - val_loss: 0.3326 - val_accuracy: 0.9275\n",
            "Epoch 16/20\n",
            "1238/1238 [==============================] - 67s 55ms/step - loss: 0.0094 - accuracy: 0.9960 - val_loss: 0.4068 - val_accuracy: 0.9493\n",
            "Epoch 17/20\n",
            "1238/1238 [==============================] - 68s 55ms/step - loss: 0.0056 - accuracy: 0.9976 - val_loss: 0.4122 - val_accuracy: 0.9493\n",
            "Epoch 18/20\n",
            "1238/1238 [==============================] - 67s 55ms/step - loss: 0.0089 - accuracy: 0.9976 - val_loss: 0.5102 - val_accuracy: 0.9275\n",
            "Epoch 19/20\n",
            "1238/1238 [==============================] - 68s 55ms/step - loss: 0.0227 - accuracy: 0.9927 - val_loss: 0.3106 - val_accuracy: 0.9420\n",
            "Epoch 20/20\n",
            "1238/1238 [==============================] - 68s 55ms/step - loss: 0.0298 - accuracy: 0.9879 - val_loss: 0.4537 - val_accuracy: 0.9130\n"
          ],
          "name": "stdout"
        }
      ]
    },
    {
      "cell_type": "markdown",
      "metadata": {
        "id": "51ecPPQ5BjtL",
        "colab_type": "text"
      },
      "source": [
        "Plotting the accuracy"
      ]
    },
    {
      "cell_type": "code",
      "metadata": {
        "id": "Jpa3_9l6BjOo",
        "colab_type": "code",
        "colab": {
          "base_uri": "https://localhost:8080/",
          "height": 279
        },
        "outputId": "119ba6a9-ff3d-4a62-fb0d-955d99c8801d"
      },
      "source": [
        "from matplotlib import pyplot as plt\n",
        "plt.plot(trained_model.history['val_accuracy'], 'r', label='val_accuracy')\n",
        "plt.plot(trained_model.history['accuracy'], label='accuracy')\n",
        "plt.xlabel('no. of epochs')\n",
        "plt.ylabel('accuracy')\n",
        "plt.legend()\n",
        "plt.show()"
      ],
      "execution_count": null,
      "outputs": [
        {
          "output_type": "display_data",
          "data": {
            "image/png": "[encoded data removed]",
            "text/plain": [
              "<Figure size 432x288 with 1 Axes>"
            ]
          },
          "metadata": {
            "tags": [],
            "needs_background": "light"
          }
        }
      ]
    },
    {
      "cell_type": "code",
      "metadata": {
        "id": "xJ2AQ5NICHX3",
        "colab_type": "code",
        "colab": {
          "base_uri": "https://localhost:8080/",
          "height": 34
        },
        "outputId": "c7a73173-27e0-46ad-de43-6a2b972fab7e"
      },
      "source": [
        "print (max(trained_model.history['val_accuracy']))"
      ],
      "execution_count": null,
      "outputs": [
        {
          "output_type": "stream",
          "text": [
            "0.9492753744125366\n"
          ],
          "name": "stdout"
        }
      ]
    }
  ]
}